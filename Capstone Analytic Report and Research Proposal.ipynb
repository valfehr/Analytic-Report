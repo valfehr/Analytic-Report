{
 "cells": [
  {
   "cell_type": "code",
   "execution_count": 30,
   "metadata": {},
   "outputs": [],
   "source": [
    "import numpy as np\n",
    "import pandas as pd\n",
    "import time\n",
    "from bs4 import BeautifulSoup\n",
    "import requests\n",
    "import matplotlib.pyplot as plt\n",
    "%matplotlib inline\n",
    "from scipy.stats import ttest_ind"
   ]
  },
  {
   "cell_type": "markdown",
   "metadata": {},
   "source": [
    "The first flight heavier than air took place in 1903, since then, planes have been used for transport on commercial flights. This industry has seen a lot of technological improvements over this more than 100 years lifespan. \n",
    "<br><b>Is flying safer now than it ever was ?</b>"
   ]
  },
  {
   "cell_type": "markdown",
   "metadata": {},
   "source": [
    "Let's start by scraping our data, wikipedia has a page that records every accidents and incidents involving commercial aircrafts. We will get infos about location, date, number of passengers, fatalities, type of aircraft and cause of the incident."
   ]
  },
  {
   "cell_type": "code",
   "execution_count": 2,
   "metadata": {},
   "outputs": [],
   "source": [
    "start = \"https://en.wikipedia.org\"\n",
    "wiki = \"/wiki/List_of_accidents_and_incidents_involving_commercial_aircraft\"\n",
    "page = requests.get(start+wiki).text\n",
    "soup = BeautifulSoup(page, 'html.parser')"
   ]
  },
  {
   "cell_type": "code",
   "execution_count": 3,
   "metadata": {},
   "outputs": [],
   "source": [
    "urls = []\n",
    "\n",
    "for bolds in soup.find_all('b'):\n",
    "    for links in bolds.find_all('a'):\n",
    "        urls.append(start + links.get('href'))\n",
    "        \n",
    "urls = urls[0:1274]"
   ]
  },
  {
   "cell_type": "code",
   "execution_count": 4,
   "metadata": {},
   "outputs": [],
   "source": [
    "table = []\n",
    "headers = [\"Date\", \"Site\", \"Passengers\", \"Crew\", \n",
    "           \"Fatalities\", \"Injuries\", \"Survivors\", \"Summary\", 'Aircraft\\xa0type']\n",
    "for url in urls:\n",
    "    dico = {}\n",
    "    page = requests.get(url).text\n",
    "    soup = BeautifulSoup(page)\n",
    "    try:\n",
    "        for infobox in soup.find('table', {\"class\": \"infobox vcard vevent\"}):\n",
    "            for th in infobox.find_all(\"th\", {\"scope\": \"row\"}):\n",
    "                if th.text in headers:\n",
    "                    dico[th.text] = th.next_sibling.text\n",
    "        table.append(dico)       \n",
    "    except TypeError:\n",
    "        pass\n",
    "    time.sleep(1)"
   ]
  },
  {
   "cell_type": "code",
   "execution_count": 7,
   "metadata": {},
   "outputs": [],
   "source": [
    "df = pd.DataFrame.from_dict(table)\n",
    "df = df.drop(columns=['Injuries'])\n",
    "\n",
    "df.Fatalities = df.Fatalities.str.extract('(\\d+)')\n",
    "df.Crew = df.Crew.str.extract('(\\d+)')\n",
    "df.Passengers = df.Passengers.str.extract('(\\d+)')\n",
    "df.Survivors = df.Survivors.str.extract('(\\d+)')\n",
    "df['Year'] = df.Date.str.extract('(\\d\\d\\d\\d)')\n",
    "\n",
    "#Dropping all the rows with missing values\n",
    "df = df.dropna()\n",
    "df.Fatalities = df.Fatalities.astype('int')\n",
    "df.Crew = df.Crew.astype('int')\n",
    "df.Passengers = df.Passengers.astype('int')\n",
    "df.Survivors = df.Survivors.astype('int')\n",
    "df.Year = df.Year.astype('int')"
   ]
  },
  {
   "cell_type": "code",
   "execution_count": 8,
   "metadata": {},
   "outputs": [
    {
     "data": {
      "text/html": [
       "<div>\n",
       "<style scoped>\n",
       "    .dataframe tbody tr th:only-of-type {\n",
       "        vertical-align: middle;\n",
       "    }\n",
       "\n",
       "    .dataframe tbody tr th {\n",
       "        vertical-align: top;\n",
       "    }\n",
       "\n",
       "    .dataframe thead th {\n",
       "        text-align: right;\n",
       "    }\n",
       "</style>\n",
       "<table border=\"1\" class=\"dataframe\">\n",
       "  <thead>\n",
       "    <tr style=\"text-align: right;\">\n",
       "      <th></th>\n",
       "      <th>Aircraft type</th>\n",
       "      <th>Crew</th>\n",
       "      <th>Date</th>\n",
       "      <th>Fatalities</th>\n",
       "      <th>Passengers</th>\n",
       "      <th>Site</th>\n",
       "      <th>Summary</th>\n",
       "      <th>Survivors</th>\n",
       "      <th>Year</th>\n",
       "    </tr>\n",
       "  </thead>\n",
       "  <tbody>\n",
       "    <tr>\n",
       "      <th>0</th>\n",
       "      <td>Type FD dirigible</td>\n",
       "      <td>3</td>\n",
       "      <td>July 21, 1919</td>\n",
       "      <td>13</td>\n",
       "      <td>2</td>\n",
       "      <td>Chicago, Illinois, United States 41°52′41.25″N...</td>\n",
       "      <td>In-flight fire</td>\n",
       "      <td>2</td>\n",
       "      <td>1919</td>\n",
       "    </tr>\n",
       "    <tr>\n",
       "      <th>1</th>\n",
       "      <td>Caproni Ca.48</td>\n",
       "      <td>2</td>\n",
       "      <td>August 2, 1919 (1919-08-02)</td>\n",
       "      <td>14</td>\n",
       "      <td>12</td>\n",
       "      <td>Verona, Italy 45°23′47″N 10°53′17″E﻿ / ﻿45.396...</td>\n",
       "      <td>Possible structural failure</td>\n",
       "      <td>0</td>\n",
       "      <td>1919</td>\n",
       "    </tr>\n",
       "    <tr>\n",
       "      <th>2</th>\n",
       "      <td>Handley Page O/400</td>\n",
       "      <td>2</td>\n",
       "      <td>December 14, 1920 (1920-12-14)</td>\n",
       "      <td>4</td>\n",
       "      <td>6</td>\n",
       "      <td>Golders Green, London 51°34′13.5″N 0°12′11.07″...</td>\n",
       "      <td>CFIT for reasons unknown</td>\n",
       "      <td>4</td>\n",
       "      <td>1920</td>\n",
       "    </tr>\n",
       "    <tr>\n",
       "      <th>4</th>\n",
       "      <td>Farman F.60 Goliath</td>\n",
       "      <td>2</td>\n",
       "      <td>14 May 1923 (1923-05-14)</td>\n",
       "      <td>6</td>\n",
       "      <td>4</td>\n",
       "      <td>Monsures, Somme, France 49°42′36″N 2°10′19″E﻿ ...</td>\n",
       "      <td>Structural failure</td>\n",
       "      <td>0</td>\n",
       "      <td>1923</td>\n",
       "    </tr>\n",
       "    <tr>\n",
       "      <th>5</th>\n",
       "      <td>Farman F.60 Goliath</td>\n",
       "      <td>2</td>\n",
       "      <td>27 August 1923 (1923-08-27)</td>\n",
       "      <td>1</td>\n",
       "      <td>11</td>\n",
       "      <td>East Malling, Kent, United Kingdom Coordinates...</td>\n",
       "      <td>Engine failure, passenger error, loss of control</td>\n",
       "      <td>12</td>\n",
       "      <td>1923</td>\n",
       "    </tr>\n",
       "  </tbody>\n",
       "</table>\n",
       "</div>"
      ],
      "text/plain": [
       "         Aircraft type  Crew                            Date  Fatalities  \\\n",
       "0    Type FD dirigible     3                   July 21, 1919          13   \n",
       "1        Caproni Ca.48     2     August 2, 1919 (1919-08-02)          14   \n",
       "2   Handley Page O/400     2  December 14, 1920 (1920-12-14)           4   \n",
       "4  Farman F.60 Goliath     2        14 May 1923 (1923-05-14)           6   \n",
       "5  Farman F.60 Goliath     2     27 August 1923 (1923-08-27)           1   \n",
       "\n",
       "   Passengers                                               Site  \\\n",
       "0           2  Chicago, Illinois, United States 41°52′41.25″N...   \n",
       "1          12  Verona, Italy 45°23′47″N 10°53′17″E﻿ / ﻿45.396...   \n",
       "2           6  Golders Green, London 51°34′13.5″N 0°12′11.07″...   \n",
       "4           4  Monsures, Somme, France 49°42′36″N 2°10′19″E﻿ ...   \n",
       "5          11  East Malling, Kent, United Kingdom Coordinates...   \n",
       "\n",
       "                                            Summary  Survivors  Year  \n",
       "0                                    In-flight fire          2  1919  \n",
       "1                       Possible structural failure          0  1919  \n",
       "2                          CFIT for reasons unknown          4  1920  \n",
       "4                                Structural failure          0  1923  \n",
       "5  Engine failure, passenger error, loss of control         12  1923  "
      ]
     },
     "execution_count": 8,
     "metadata": {},
     "output_type": "execute_result"
    }
   ],
   "source": [
    "df.head()"
   ]
  },
  {
   "cell_type": "markdown",
   "metadata": {},
   "source": [
    "The result of the scraping, after some cleaning, gives us informations about 1102 incidents. We have now access to the Aircraft type as a string, number of crew members on board as an integer, the Date as a string, number of fatalities as an integer, number of passenegrs as an integer, site of teh incident as a string, a quick summary of the cause of teh incident as a string, number of survivors as an integer and year of the incident as an integer. To start off : \n",
    "<br><b>What has the general trend in commercial aviation safety been ?</b>"
   ]
  },
  {
   "cell_type": "code",
   "execution_count": 9,
   "metadata": {},
   "outputs": [
    {
     "data": {
      "text/html": [
       "<div>\n",
       "<style scoped>\n",
       "    .dataframe tbody tr th:only-of-type {\n",
       "        vertical-align: middle;\n",
       "    }\n",
       "\n",
       "    .dataframe tbody tr th {\n",
       "        vertical-align: top;\n",
       "    }\n",
       "\n",
       "    .dataframe thead th {\n",
       "        text-align: right;\n",
       "    }\n",
       "</style>\n",
       "<table border=\"1\" class=\"dataframe\">\n",
       "  <thead>\n",
       "    <tr style=\"text-align: right;\">\n",
       "      <th></th>\n",
       "      <th>Crew</th>\n",
       "      <th>Fatalities</th>\n",
       "      <th>Passengers</th>\n",
       "      <th>Survivors</th>\n",
       "      <th>Year</th>\n",
       "    </tr>\n",
       "  </thead>\n",
       "  <tbody>\n",
       "    <tr>\n",
       "      <th>count</th>\n",
       "      <td>1101.000000</td>\n",
       "      <td>1101.000000</td>\n",
       "      <td>1101.000000</td>\n",
       "      <td>1101.000000</td>\n",
       "      <td>1101.000000</td>\n",
       "    </tr>\n",
       "    <tr>\n",
       "      <th>mean</th>\n",
       "      <td>6.692098</td>\n",
       "      <td>46.894641</td>\n",
       "      <td>72.367847</td>\n",
       "      <td>32.221617</td>\n",
       "      <td>1981.756585</td>\n",
       "    </tr>\n",
       "    <tr>\n",
       "      <th>std</th>\n",
       "      <td>4.409558</td>\n",
       "      <td>55.434595</td>\n",
       "      <td>73.630651</td>\n",
       "      <td>70.662552</td>\n",
       "      <td>22.432986</td>\n",
       "    </tr>\n",
       "    <tr>\n",
       "      <th>min</th>\n",
       "      <td>1.000000</td>\n",
       "      <td>0.000000</td>\n",
       "      <td>0.000000</td>\n",
       "      <td>0.000000</td>\n",
       "      <td>1919.000000</td>\n",
       "    </tr>\n",
       "    <tr>\n",
       "      <th>25%</th>\n",
       "      <td>4.000000</td>\n",
       "      <td>7.000000</td>\n",
       "      <td>19.000000</td>\n",
       "      <td>0.000000</td>\n",
       "      <td>1966.000000</td>\n",
       "    </tr>\n",
       "    <tr>\n",
       "      <th>50%</th>\n",
       "      <td>6.000000</td>\n",
       "      <td>28.000000</td>\n",
       "      <td>48.000000</td>\n",
       "      <td>0.000000</td>\n",
       "      <td>1982.000000</td>\n",
       "    </tr>\n",
       "    <tr>\n",
       "      <th>75%</th>\n",
       "      <td>8.000000</td>\n",
       "      <td>66.000000</td>\n",
       "      <td>103.000000</td>\n",
       "      <td>22.000000</td>\n",
       "      <td>2001.000000</td>\n",
       "    </tr>\n",
       "    <tr>\n",
       "      <th>max</th>\n",
       "      <td>61.000000</td>\n",
       "      <td>520.000000</td>\n",
       "      <td>509.000000</td>\n",
       "      <td>521.000000</td>\n",
       "      <td>2018.000000</td>\n",
       "    </tr>\n",
       "  </tbody>\n",
       "</table>\n",
       "</div>"
      ],
      "text/plain": [
       "              Crew   Fatalities   Passengers    Survivors         Year\n",
       "count  1101.000000  1101.000000  1101.000000  1101.000000  1101.000000\n",
       "mean      6.692098    46.894641    72.367847    32.221617  1981.756585\n",
       "std       4.409558    55.434595    73.630651    70.662552    22.432986\n",
       "min       1.000000     0.000000     0.000000     0.000000  1919.000000\n",
       "25%       4.000000     7.000000    19.000000     0.000000  1966.000000\n",
       "50%       6.000000    28.000000    48.000000     0.000000  1982.000000\n",
       "75%       8.000000    66.000000   103.000000    22.000000  2001.000000\n",
       "max      61.000000   520.000000   509.000000   521.000000  2018.000000"
      ]
     },
     "execution_count": 9,
     "metadata": {},
     "output_type": "execute_result"
    }
   ],
   "source": [
    "df.describe()"
   ]
  },
  {
   "cell_type": "markdown",
   "metadata": {},
   "source": [
    "At first glance we see that the first recorded incident took place in 1919, this makes sense since commercial use of aircrafts developped only after WWI, countries had extra aircrafts left after the war and decided to use them to generate profit."
   ]
  },
  {
   "cell_type": "code",
   "execution_count": 10,
   "metadata": {},
   "outputs": [
    {
     "data": {
      "image/png": "[encoded data removed]",
      "text/plain": [
       "<Figure size 432x288 with 1 Axes>"
      ]
     },
     "metadata": {
      "needs_background": "light"
     },
     "output_type": "display_data"
    }
   ],
   "source": [
    "plt.hist(df.Year, bins=np.arange(1910, 2020, 5))\n",
    "plt.title('Number of incidents per 5 years')\n",
    "plt.show()"
   ]
  },
  {
   "cell_type": "markdown",
   "metadata": {},
   "source": [
    "Looking at the number of incidents per year, we see that there were less incidents early on than after 1960. However, this does not account for how many flights are taken each year, a greater number of flights could mean a greater number incidents and without access to the number of flights per year we cannot say it is more dangerous to fly now than it was before."
   ]
  },
  {
   "cell_type": "code",
   "execution_count": 11,
   "metadata": {},
   "outputs": [
    {
     "data": {
      "image/png": "[encoded data removed]",
      "text/plain": [
       "<Figure size 1440x360 with 2 Axes>"
      ]
     },
     "metadata": {
      "needs_background": "light"
     },
     "output_type": "display_data"
    }
   ],
   "source": [
    "plt.figure(figsize=(20,5))\n",
    "plt.subplot(1, 2, 1)\n",
    "plt.scatter(df.groupby('Year').count().index, df.groupby('Year').sum()['Fatalities'])\n",
    "plt.title('Number of Fatalities per year')\n",
    "z = np.polyfit(df.groupby('Year').count().index[-70:], df.groupby('Year').sum()['Fatalities'][-70:], 2)\n",
    "p = np.poly1d(z)\n",
    "plt.plot(df.groupby('Year').count().index[-70:], p(df.groupby('Year').count().index[-70:]),\"r\")\n",
    "plt.ylim(bottom=-20, top=1800)\n",
    "\n",
    "\n",
    "plt.subplot(1, 2, 2)\n",
    "plt.scatter(df.groupby('Year').count().index, df.groupby('Year').count()['Fatalities'])\n",
    "plt.title('Number of Incidents per year')\n",
    "\n",
    "z = np.polyfit(df.groupby('Year').count().index, df.groupby('Year').count()['Fatalities'], 1)\n",
    "p = np.poly1d(z)\n",
    "plt.plot(df.groupby('Year').count().index,p(df.groupby('Year').count().index),\"r\")\n",
    "\n",
    "\n",
    "plt.show()"
   ]
  },
  {
   "cell_type": "markdown",
   "metadata": {},
   "source": [
    "Instead, let's look at the number of fatalities each year. Once more, having more flights should mean having more fatalities. However, even if we can see that the number of incidents each year is indeed increasing, the number of fatalities sees a peak around 1980 and has been decreasing since. This could mean that even if more incidents happen today, they probably are not as catastrophic as they used to be."
   ]
  },
  {
   "cell_type": "code",
   "execution_count": 12,
   "metadata": {},
   "outputs": [
    {
     "data": {
      "text/plain": [
       "Ttest_relResult(statistic=12.051498236891039, pvalue=8.946515066098898e-21)"
      ]
     },
     "execution_count": 12,
     "metadata": {},
     "output_type": "execute_result"
    }
   ],
   "source": [
    "from scipy.stats import ttest_rel\n",
    "ttest_rel(df.groupby('Year').sum()['Fatalities'],\n",
    "                     df.groupby('Year').count()['Fatalities'])"
   ]
  },
  {
   "cell_type": "markdown",
   "metadata": {},
   "source": [
    "The shape of the yearly fatalities seems like a quadratic function. However, it seems like a stretch to say that some time in the future the number of fatalities will be very close to zero. To investigate this we will take a look and ask : \n",
    "<br><b>Could a single incident cause a high number of fatalities ?</b>"
   ]
  },
  {
   "cell_type": "code",
   "execution_count": 22,
   "metadata": {},
   "outputs": [],
   "source": [
    "survival_rate = df.Survivors*100/(df.Crew+df.Passengers)\n",
    "percent_fatalities = df.Fatalities*100/(df.Crew+df.Passengers)\n",
    "df['Survival rate'] = survival_rate"
   ]
  },
  {
   "cell_type": "code",
   "execution_count": 23,
   "metadata": {},
   "outputs": [
    {
     "data": {
      "image/png": "[encoded data removed]",
      "text/plain": [
       "<Figure size 720x360 with 2 Axes>"
      ]
     },
     "metadata": {
      "needs_background": "light"
     },
     "output_type": "display_data"
    }
   ],
   "source": [
    "plt.figure(figsize=(10,5))\n",
    "plt.subplot(1, 2, 1)\n",
    "plt.boxplot(percent_fatalities)\n",
    "plt.title('Percent of Fatalities')\n",
    "plt.subplot(1, 2, 2)\n",
    "plt.boxplot(df['Survival rate'])\n",
    "plt.title('Survival rate')\n",
    "plt.show()"
   ]
  },
  {
   "cell_type": "markdown",
   "metadata": {},
   "source": [
    "Looking at the rate of fatalities and survival per incident, we see that the median for fatalities is 100% and accordingly the survival rate is 0%. Some values seem odd, with a fatality or survival rate over 100%, let's look at these cases."
   ]
  },
  {
   "cell_type": "code",
   "execution_count": 24,
   "metadata": {},
   "outputs": [
    {
     "data": {
      "text/plain": [
       "Aircraft type                         Boeing C-97G Stratofreighter\n",
       "Crew                                                             4\n",
       "Date                                                  30 July 1987\n",
       "Fatalities                                                      49\n",
       "Passengers                                                       8\n",
       "Site             Toluca - Mexico City highway, Cuajimalpa, Mexi...\n",
       "Summary          Crashed onto highway due to cargo shift and ge...\n",
       "Survivors                                                        7\n",
       "Year                                                          1987\n",
       "Survival rate                                              58.3333\n",
       "Name: 695, dtype: object"
      ]
     },
     "execution_count": 24,
     "metadata": {},
     "output_type": "execute_result"
    }
   ],
   "source": [
    "df.loc[percent_fatalities.idxmax()]"
   ]
  },
  {
   "cell_type": "code",
   "execution_count": 25,
   "metadata": {},
   "outputs": [
    {
     "data": {
      "text/plain": [
       "Aircraft type                                    Tupolev Tu-154B-2\n",
       "Crew                                                             8\n",
       "Date                                                1 January 2011\n",
       "Fatalities                                                       3\n",
       "Passengers                                                     116\n",
       "Site             Surgut International Airport, Surgut, Russia 6...\n",
       "Summary                                            Electrical fire\n",
       "Survivors                                                      131\n",
       "Year                                                          2011\n",
       "Survival rate                                              105.645\n",
       "Name: 1132, dtype: object"
      ]
     },
     "execution_count": 25,
     "metadata": {},
     "output_type": "execute_result"
    }
   ],
   "source": [
    "df.loc[survival_rate.idxmax()]"
   ]
  },
  {
   "cell_type": "markdown",
   "metadata": {},
   "source": [
    "In the case of fatalities, we can see that more people died than the number of people on board. In this case the plane crashed into a busy highway causing more fatalities. This is the case for several incidents. Therefore, we will focus on the survival rate which takes only the people on board into account. The odd case out results from off duty crew members not counted as either crew or passengers."
   ]
  },
  {
   "cell_type": "code",
   "execution_count": 26,
   "metadata": {},
   "outputs": [
    {
     "data": {
      "image/png": "[encoded data removed]",
      "text/plain": [
       "<Figure size 1080x360 with 2 Axes>"
      ]
     },
     "metadata": {
      "needs_background": "light"
     },
     "output_type": "display_data"
    }
   ],
   "source": [
    "plt.figure(figsize=(15,5))\n",
    "\n",
    "plt.subplot(1, 2, 1)\n",
    "plt.hist(survival_rate, bins=np.arange(0, 110, 10))\n",
    "plt.title('Percent of Survivors')\n",
    "plt.xlabel('Survival rate (%)')\n",
    "\n",
    "plt.subplot(1, 2, 2)\n",
    "bernoulli= np.random.binomial(1, 0.2, 1000)\n",
    "plt.hist(bernoulli, bins=np.arange(0, 1.1, 0.1))\n",
    "plt.title('Bernoulli distribution with p=0.2')\n",
    "plt.show()"
   ]
  },
  {
   "cell_type": "markdown",
   "metadata": {},
   "source": [
    "Looking more closely at the survival rate, we can see that the repartition seems like a discrete event. Either everyone dies, or everyone survives."
   ]
  },
  {
   "cell_type": "code",
   "execution_count": 31,
   "metadata": {},
   "outputs": [
    {
     "name": "stdout",
     "output_type": "stream",
     "text": [
      "Ttest_indResult(statistic=24.00198961931564, pvalue=1.0227064728470803e-102)\n"
     ]
    }
   ],
   "source": [
    "print(ttest_ind(survival_rate, bernoulli, equal_var=False))"
   ]
  },
  {
   "cell_type": "markdown",
   "metadata": {},
   "source": [
    "Comparing this with a bernoulli repartition we can see that the p value is very close to 0 and that indeed the survival rate can be considered as a discrete event with only usually two possible outcomes : 100% or 0% survival rate.\n",
    "So even if the number of incidents goes down dramatically in the future, any single incident has a good chance to have a survival rate of 0% and cause a lot of fatalities."
   ]
  },
  {
   "cell_type": "code",
   "execution_count": 32,
   "metadata": {},
   "outputs": [
    {
     "data": {
      "image/png": "[encoded data removed]",
      "text/plain": [
       "<Figure size 432x288 with 1 Axes>"
      ]
     },
     "metadata": {
      "needs_background": "light"
     },
     "output_type": "display_data"
    }
   ],
   "source": [
    "plt.scatter(df.groupby('Year').count().index,\n",
    "            df.groupby('Year').mean()['Survival rate'])\n",
    "plt.title('Average survival rate through the years')\n",
    "plt.ylabel('Survival rate (%)')\n",
    "\n",
    "z = np.polyfit(df.groupby('Year').count().index[-70:], \n",
    "               df.groupby('Year').mean()['Survival rate'][-70:],\n",
    "               1)\n",
    "p = np.poly1d(z)\n",
    "plt.plot(df.groupby('Year').count().index[-70:],\n",
    "         p(df.groupby('Year').count().index[-70:]),\n",
    "         \"r\")\n",
    "plt.show()"
   ]
  },
  {
   "cell_type": "markdown",
   "metadata": {},
   "source": [
    "While this might be true looking at all incidents, looking at the average survival rate over the years shows that there is an increasing tendency in survival rate. Even if the result of an incident is discrete, on average, more and more incidents end up with a 100% survival rate indicating progress.\n",
    "<br>Finally, let's take a look at the causes of incidents to get an idea of where progress has been made and where there is still room for improvement."
   ]
  },
  {
   "cell_type": "code",
   "execution_count": 33,
   "metadata": {},
   "outputs": [],
   "source": [
    "causes = {\"unknown\":\"Unknown\",\n",
    "      \"investigation\":\"Unknown\",\n",
    "      \"undetermined\":\"Unknown\",\n",
    "      \"disappear\":\"Unknown\",\n",
    "      \"runway\":\"Ground\",\n",
    "      \"landing\":\"Landing\",\n",
    "      \"approach\":\"Landing\",\n",
    "      \"take-off\":\"Take-off\",\n",
    "      \"takeoff\":\"Take-off\",\n",
    "      \"failure\":\"Failure\",\n",
    "      \"engine\":\"Failure\",\n",
    "       \"malfunction\":\"Failure\",\n",
    "      \"weather\":\"Weather\",\n",
    "      \"ice\":\"Weather\",\n",
    "      \"icing\":\"Weather\",\n",
    "      \"light\":\"Weather\",\n",
    "      \"fire\":\"Fire\",\n",
    "      \"explosion\":\"Fire\",\n",
    "      \"hijack\":\"Terror\",\n",
    "      \"bomb\":\"Terror\",\n",
    "      \"suicide\":\"Terror\",\n",
    "      \"terrain\":\"CFIT\",\n",
    "      \"CFIT\":\"CFIT\",\n",
    "      \"crew\":\"Pilot\",\n",
    "      \"pilot\":\"Pilot\"}"
   ]
  },
  {
   "cell_type": "code",
   "execution_count": 35,
   "metadata": {},
   "outputs": [],
   "source": [
    "for cause in causes:\n",
    "    df.loc[df['Summary'].str.contains(cause, case=False), \"Cause\"] = causes[cause]\n",
    "df.loc[df.Cause.isnull(), \"Cause\"] = \"Other\""
   ]
  },
  {
   "cell_type": "code",
   "execution_count": 36,
   "metadata": {},
   "outputs": [
    {
     "data": {
      "image/png": "[encoded data removed]",
      "text/plain": [
       "<Figure size 1440x360 with 2 Axes>"
      ]
     },
     "metadata": {
      "needs_background": "light"
     },
     "output_type": "display_data"
    }
   ],
   "source": [
    "plt.figure(figsize=(20,5))\n",
    "\n",
    "plt.subplot(1, 2, 1)\n",
    "plt.bar(df.groupby('Cause').count()['Fatalities'].index,\n",
    "        df.groupby('Cause').count()['Fatalities'])\n",
    "plt.title('Number of incidents by cause')\n",
    "\n",
    "plt.subplot(1, 2, 2)\n",
    "plt.bar(df.groupby('Cause').sum()['Fatalities'].index,\n",
    "        df.groupby('Cause').sum()['Fatalities'])\n",
    "plt.title('Number of fatalities by cause of incident');"
   ]
  },
  {
   "cell_type": "markdown",
   "metadata": {},
   "source": [
    "We can immediately see that pilot errors account for nearly double the next most common cause of incidents (CFIT = Controlled Flight Into Terrain). Most notably, any type of mechanical/electrical/technical failure from the plane itself is way less common than pilot errors."
   ]
  },
  {
   "cell_type": "code",
   "execution_count": 37,
   "metadata": {},
   "outputs": [
    {
     "data": {
      "text/html": [
       "<div>\n",
       "<style scoped>\n",
       "    .dataframe tbody tr th:only-of-type {\n",
       "        vertical-align: middle;\n",
       "    }\n",
       "\n",
       "    .dataframe tbody tr th {\n",
       "        vertical-align: top;\n",
       "    }\n",
       "\n",
       "    .dataframe thead th {\n",
       "        text-align: right;\n",
       "    }\n",
       "</style>\n",
       "<table border=\"1\" class=\"dataframe\">\n",
       "  <thead>\n",
       "    <tr style=\"text-align: right;\">\n",
       "      <th></th>\n",
       "      <th>Crew</th>\n",
       "      <th>Fatalities</th>\n",
       "      <th>Passengers</th>\n",
       "      <th>Survivors</th>\n",
       "      <th>Year</th>\n",
       "      <th>Survival rate</th>\n",
       "    </tr>\n",
       "    <tr>\n",
       "      <th>Cause</th>\n",
       "      <th></th>\n",
       "      <th></th>\n",
       "      <th></th>\n",
       "      <th></th>\n",
       "      <th></th>\n",
       "      <th></th>\n",
       "    </tr>\n",
       "  </thead>\n",
       "  <tbody>\n",
       "    <tr>\n",
       "      <th>CFIT</th>\n",
       "      <td>5.372973</td>\n",
       "      <td>40.837838</td>\n",
       "      <td>43.264865</td>\n",
       "      <td>7.848649</td>\n",
       "      <td>1974.362162</td>\n",
       "      <td>13.704704</td>\n",
       "    </tr>\n",
       "    <tr>\n",
       "      <th>Failure</th>\n",
       "      <td>6.338235</td>\n",
       "      <td>38.970588</td>\n",
       "      <td>73.397059</td>\n",
       "      <td>41.139706</td>\n",
       "      <td>1981.352941</td>\n",
       "      <td>31.599322</td>\n",
       "    </tr>\n",
       "    <tr>\n",
       "      <th>Fire</th>\n",
       "      <td>8.597222</td>\n",
       "      <td>59.138889</td>\n",
       "      <td>88.000000</td>\n",
       "      <td>37.805556</td>\n",
       "      <td>1979.680556</td>\n",
       "      <td>33.398526</td>\n",
       "    </tr>\n",
       "    <tr>\n",
       "      <th>Ground</th>\n",
       "      <td>7.444444</td>\n",
       "      <td>22.166667</td>\n",
       "      <td>95.666667</td>\n",
       "      <td>81.333333</td>\n",
       "      <td>1994.944444</td>\n",
       "      <td>68.540920</td>\n",
       "    </tr>\n",
       "    <tr>\n",
       "      <th>Landing</th>\n",
       "      <td>7.200000</td>\n",
       "      <td>20.714286</td>\n",
       "      <td>78.657143</td>\n",
       "      <td>65.200000</td>\n",
       "      <td>1990.685714</td>\n",
       "      <td>56.579528</td>\n",
       "    </tr>\n",
       "    <tr>\n",
       "      <th>Other</th>\n",
       "      <td>6.333333</td>\n",
       "      <td>50.411111</td>\n",
       "      <td>70.366667</td>\n",
       "      <td>26.344444</td>\n",
       "      <td>1978.944444</td>\n",
       "      <td>23.027293</td>\n",
       "    </tr>\n",
       "    <tr>\n",
       "      <th>Pilot</th>\n",
       "      <td>6.720930</td>\n",
       "      <td>54.555233</td>\n",
       "      <td>77.950581</td>\n",
       "      <td>30.261628</td>\n",
       "      <td>1985.002907</td>\n",
       "      <td>27.324526</td>\n",
       "    </tr>\n",
       "    <tr>\n",
       "      <th>Take-off</th>\n",
       "      <td>6.555556</td>\n",
       "      <td>45.333333</td>\n",
       "      <td>76.777778</td>\n",
       "      <td>38.000000</td>\n",
       "      <td>1989.111111</td>\n",
       "      <td>33.464626</td>\n",
       "    </tr>\n",
       "    <tr>\n",
       "      <th>Terror</th>\n",
       "      <td>9.053333</td>\n",
       "      <td>42.120000</td>\n",
       "      <td>107.480000</td>\n",
       "      <td>74.053333</td>\n",
       "      <td>1984.733333</td>\n",
       "      <td>52.714142</td>\n",
       "    </tr>\n",
       "    <tr>\n",
       "      <th>Unknown</th>\n",
       "      <td>6.644444</td>\n",
       "      <td>48.444444</td>\n",
       "      <td>50.622222</td>\n",
       "      <td>9.733333</td>\n",
       "      <td>1980.600000</td>\n",
       "      <td>14.370193</td>\n",
       "    </tr>\n",
       "    <tr>\n",
       "      <th>Weather</th>\n",
       "      <td>6.373494</td>\n",
       "      <td>47.409639</td>\n",
       "      <td>72.421687</td>\n",
       "      <td>30.168675</td>\n",
       "      <td>1980.012048</td>\n",
       "      <td>25.282307</td>\n",
       "    </tr>\n",
       "  </tbody>\n",
       "</table>\n",
       "</div>"
      ],
      "text/plain": [
       "              Crew  Fatalities  Passengers  Survivors         Year  \\\n",
       "Cause                                                                \n",
       "CFIT      5.372973   40.837838   43.264865   7.848649  1974.362162   \n",
       "Failure   6.338235   38.970588   73.397059  41.139706  1981.352941   \n",
       "Fire      8.597222   59.138889   88.000000  37.805556  1979.680556   \n",
       "Ground    7.444444   22.166667   95.666667  81.333333  1994.944444   \n",
       "Landing   7.200000   20.714286   78.657143  65.200000  1990.685714   \n",
       "Other     6.333333   50.411111   70.366667  26.344444  1978.944444   \n",
       "Pilot     6.720930   54.555233   77.950581  30.261628  1985.002907   \n",
       "Take-off  6.555556   45.333333   76.777778  38.000000  1989.111111   \n",
       "Terror    9.053333   42.120000  107.480000  74.053333  1984.733333   \n",
       "Unknown   6.644444   48.444444   50.622222   9.733333  1980.600000   \n",
       "Weather   6.373494   47.409639   72.421687  30.168675  1980.012048   \n",
       "\n",
       "          Survival rate  \n",
       "Cause                    \n",
       "CFIT          13.704704  \n",
       "Failure       31.599322  \n",
       "Fire          33.398526  \n",
       "Ground        68.540920  \n",
       "Landing       56.579528  \n",
       "Other         23.027293  \n",
       "Pilot         27.324526  \n",
       "Take-off      33.464626  \n",
       "Terror        52.714142  \n",
       "Unknown       14.370193  \n",
       "Weather       25.282307  "
      ]
     },
     "execution_count": 37,
     "metadata": {},
     "output_type": "execute_result"
    }
   ],
   "source": [
    "df.groupby('Cause').mean()"
   ]
  },
  {
   "cell_type": "code",
   "execution_count": 38,
   "metadata": {},
   "outputs": [
    {
     "data": {
      "image/png": "[encoded data removed]",
      "text/plain": [
       "<Figure size 1440x360 with 1 Axes>"
      ]
     },
     "metadata": {
      "needs_background": "light"
     },
     "output_type": "display_data"
    }
   ],
   "source": [
    "plt.figure(figsize=(20,5))\n",
    "plt.scatter(df[df['Cause'].str.match('CFIT')].groupby('Year').count()['Cause'].index,\n",
    "            df[df['Cause'].str.match('CFIT')].groupby('Year').count()['Cause'])\n",
    "\n",
    "plt.scatter(df[df['Cause'].str.match('Pilot')].groupby('Year').count()['Cause'].index,\n",
    "            df[df['Cause'].str.match('Pilot')].groupby('Year').count()['Cause'])\n",
    "\n",
    "plt.scatter(df[df['Cause'].str.match('Failure')].groupby('Year').count()['Cause'].index,\n",
    "            df[df['Cause'].str.match('Failure')].groupby('Year').count()['Cause'])\n",
    "\n",
    "plt.ylabel(\"Number of incidents\")\n",
    "plt.legend([\"CFIT\", \"Pilot\", \"Failure\"]);"
   ]
  },
  {
   "cell_type": "markdown",
   "metadata": {},
   "source": [
    "Looking at the survival rate though, CFIT's are the most dangerous cause of incidents with a 13.78% survival rate on average. When looking at the average year the incidents occured, we see that pilot errors match the average of all incidents (1984), whereas technical difficulties seem to be an older issue (1981 on average) and where never the leading cause of incident. CFIT do not seem to happen that often more recently anymore."
   ]
  },
  {
   "cell_type": "markdown",
   "metadata": {},
   "source": [
    "All in all, we have seen great improvement in the survival rate, even if the number of incidents is going up in par with the number of flights. Pilot error remains the biggest safety issue and should be an area of emphasis for airlines trying to provide the safest travel possible considering a single incident is usually enough to make big headlines."
   ]
  },
  {
   "cell_type": "markdown",
   "metadata": {},
   "source": [
    "Future research could provide more insight on actual correlation (through regression). We could also use additional economical data by country and also the number of daily flights. It could be interesting to look at what parts of the world and/or companies are more dangerous, which would lead to the question : \n",
    "<br><b>Has progress in aviation safety been asymetrical depending on amount of money put into it ?</b>"
   ]
  },
  {
   "cell_type": "code",
   "execution_count": null,
   "metadata": {},
   "outputs": [],
   "source": []
  }
 ],
 "metadata": {
  "kernelspec": {
   "display_name": "Python 3",
   "language": "python",
   "name": "python3"
  },
  "language_info": {
   "codemirror_mode": {
    "name": "ipython",
    "version": 3
   },
   "file_extension": ".py",
   "mimetype": "text/x-python",
   "name": "python",
   "nbconvert_exporter": "python",
   "pygments_lexer": "ipython3",
   "version": "3.6.7"
  }
 },
 "nbformat": 4,
 "nbformat_minor": 2
}
